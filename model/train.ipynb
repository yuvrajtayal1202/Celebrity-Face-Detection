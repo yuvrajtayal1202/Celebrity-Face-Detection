{
 "cells": [
  {
   "cell_type": "code",
   "execution_count": 1,
   "metadata": {},
   "outputs": [],
   "source": [
    "import numpy as np\n",
    "import cv2\n",
    "import matplotlib\n",
    "from matplotlib import pyplot as plt\n",
    "%matplotlib inline"
   ]
  },
  {
   "cell_type": "code",
   "execution_count": 2,
   "id": "483884fc",
   "metadata": {},
   "outputs": [],
   "source": [
    "face_cascade = cv2.CascadeClassifier('./opencv/haarcascades/haarcascade_frontalface_default.xml')\n",
    "eye_cascade = cv2.CascadeClassifier('./opencv/haarcascades/haarcascade_eye.xml')\n"
   ]
  },
  {
   "cell_type": "code",
   "execution_count": 3,
   "metadata": {},
   "outputs": [],
   "source": [
    "def get_cropped_image_if_2_eyes(image_path):\n",
    "    img = cv2.imread(image_path)\n",
    "    if img is None:\n",
    "        print(f\"Image not found or could not be loaded: {image_path}\")\n",
    "        return None\n",
    "    gray = cv2.cvtColor(img, cv2.COLOR_BGR2GRAY)\n",
    "    faces = face_cascade.detectMultiScale(gray, 1.3, 5)\n",
    "    for (x, y, w, h) in faces:\n",
    "        roi_gray = gray[y:y+h, x:x+w]\n",
    "        eyes = eye_cascade.detectMultiScale(roi_gray)\n",
    "        if len(eyes) >= 2:\n",
    "            return img[y:y+h, x:x+w]\n",
    "    return None\n"
   ]
  },
  {
   "cell_type": "code",
   "execution_count": 9,
   "id": "b4a30635",
   "metadata": {},
   "outputs": [],
   "source": [
    "import os\n",
    "\n",
    "for entry in os.scandir(img_dir):\n",
    "    if entry.is_file() and entry.name.lower().endswith(('.jpg', '.jpeg', '.png')):\n",
    "        roi_color = get_cropped_image_if_2_eyes(entry.path)\n",
    "        if roi_color is not None:\n",
    "            cropped_folder = os.path.join(path_to_cr_data, celebrity_name)\n",
    "            os.makedirs(cropped_folder, exist_ok=True)\n",
    "            cropped_img_path = os.path.join(cropped_folder, os.path.basename(entry.path))\n",
    "            cv2.imwrite(cropped_img_path, roi_color)\n"
   ]
  },
  {
   "cell_type": "code",
   "execution_count": 4,
   "metadata": {},
   "outputs": [],
   "source": [
    "path_to_data = \"./dataset/\"\n",
    "path_to_cr_data = \"./dataset/cropped/\""
   ]
  },
  {
   "cell_type": "code",
   "execution_count": 5,
   "metadata": {},
   "outputs": [],
   "source": [
    "import os\n",
    "img_dirs = []\n",
    "for entry in os.scandir(path_to_data):\n",
    "    if entry.is_dir():\n",
    "        img_dirs.append(entry.path)"
   ]
  },
  {
   "cell_type": "code",
   "execution_count": 6,
   "id": "06293383",
   "metadata": {},
   "outputs": [
    {
     "data": {
      "text/plain": [
       "['./dataset/amir_khan', './dataset/lionel_messi', './dataset/virat_kohli']"
      ]
     },
     "execution_count": 6,
     "metadata": {},
     "output_type": "execute_result"
    }
   ],
   "source": [
    "img_dirs"
   ]
  },
  {
   "cell_type": "code",
   "execution_count": 7,
   "id": "d752c34f",
   "metadata": {},
   "outputs": [],
   "source": [
    "import shutil\n",
    "if os.path.exists(path_to_cr_data):\n",
    "     shutil.rmtree(path_to_cr_data)\n",
    "os.mkdir(path_to_cr_data)"
   ]
  },
  {
   "cell_type": "code",
   "execution_count": 8,
   "metadata": {},
   "outputs": [
    {
     "name": "stdout",
     "output_type": "stream",
     "text": [
      "amir_khan\n",
      "Generating cropped images in folder:  ./dataset/cropped/amir_khan\n",
      "Image not found or could not be loaded: ./dataset/amir_khan\\com_lookaside_crawler_media_ (1).htm\n",
      "Image not found or could not be loaded: ./dataset/amir_khan\\com_lookaside_crawler_media_ (2).htm\n",
      "Image not found or could not be loaded: ./dataset/amir_khan\\com_lookaside_crawler_media_ (3).htm\n",
      "Image not found or could not be loaded: ./dataset/amir_khan\\com_lookaside_crawler_media_ (4).htm\n",
      "Image not found or could not be loaded: ./dataset/amir_khan\\com_lookaside_crawler_media_ (5).htm\n",
      "Image not found or could not be loaded: ./dataset/amir_khan\\com_lookaside_crawler_media_.htm\n",
      "Image not found or could not be loaded: ./dataset/amir_khan\\com_seo_google_widget_crawler_ (1).htm\n",
      "Image not found or could not be loaded: ./dataset/amir_khan\\com_seo_google_widget_crawler_ (2).htm\n",
      "Image not found or could not be loaded: ./dataset/amir_khan\\com_seo_google_widget_crawler_ (3).htm\n",
      "Image not found or could not be loaded: ./dataset/amir_khan\\com_seo_google_widget_crawler_ (4).htm\n",
      "Image not found or could not be loaded: ./dataset/amir_khan\\com_seo_google_widget_crawler_ (5).htm\n",
      "Image not found or could not be loaded: ./dataset/amir_khan\\com_seo_google_widget_crawler_.htm\n",
      "lionel_messi\n",
      "Generating cropped images in folder:  ./dataset/cropped/lionel_messi\n",
      "Image not found or could not be loaded: ./dataset/lionel_messi\\com_lookaside_crawler_media_ (1).htm\n",
      "Image not found or could not be loaded: ./dataset/lionel_messi\\com_lookaside_crawler_media_ (2).htm\n",
      "Image not found or could not be loaded: ./dataset/lionel_messi\\com_lookaside_crawler_media_ (3).htm\n",
      "Image not found or could not be loaded: ./dataset/lionel_messi\\com_lookaside_crawler_media_.htm\n",
      "Image not found or could not be loaded: ./dataset/lionel_messi\\com_seo_google_widget_crawler_ (1).htm\n",
      "Image not found or could not be loaded: ./dataset/lionel_messi\\com_seo_google_widget_crawler_ (2).htm\n",
      "Image not found or could not be loaded: ./dataset/lionel_messi\\com_seo_google_widget_crawler_ (3).htm\n",
      "Image not found or could not be loaded: ./dataset/lionel_messi\\com_seo_google_widget_crawler_ (4).htm\n",
      "Image not found or could not be loaded: ./dataset/lionel_messi\\com_seo_google_widget_crawler_.htm\n",
      "virat_kohli\n",
      "Generating cropped images in folder:  ./dataset/cropped/virat_kohli\n",
      "Image not found or could not be loaded: ./dataset/virat_kohli\\com_lookaside_crawler_media_ (1).htm\n",
      "Image not found or could not be loaded: ./dataset/virat_kohli\\com_lookaside_crawler_media_ (2).htm\n",
      "Image not found or could not be loaded: ./dataset/virat_kohli\\com_lookaside_crawler_media_.htm\n",
      "Image not found or could not be loaded: ./dataset/virat_kohli\\com_seo_google_widget_crawler_ (1).htm\n",
      "Image not found or could not be loaded: ./dataset/virat_kohli\\com_seo_google_widget_crawler_ (2).htm\n",
      "Image not found or could not be loaded: ./dataset/virat_kohli\\com_seo_google_widget_crawler_ (3).htm\n",
      "Image not found or could not be loaded: ./dataset/virat_kohli\\com_seo_google_widget_crawler_.htm\n"
     ]
    }
   ],
   "source": [
    "cropped_image_dirs = []\n",
    "celebrity_file_names_dict = {}\n",
    "\n",
    "for img_dir in img_dirs:\n",
    "    count = 1\n",
    "    celebrity_name = img_dir.split('/')[-1]\n",
    "    print(celebrity_name)\n",
    "    \n",
    "    celebrity_file_names_dict[celebrity_name] = []\n",
    "    \n",
    "    for entry in os.scandir(img_dir):\n",
    "        roi_color = get_cropped_image_if_2_eyes(entry.path)\n",
    "        if roi_color is not None:\n",
    "            cropped_folder = path_to_cr_data + celebrity_name\n",
    "            if not os.path.exists(cropped_folder):\n",
    "                os.makedirs(cropped_folder)\n",
    "                cropped_image_dirs.append(cropped_folder)\n",
    "                print(\"Generating cropped images in folder: \",cropped_folder)\n",
    "                \n",
    "            cropped_file_name = celebrity_name + str(count) + \".png\"\n",
    "            cropped_file_path = cropped_folder + \"/\" + cropped_file_name \n",
    "            \n",
    "            cv2.imwrite(cropped_file_path, roi_color)\n",
    "            celebrity_file_names_dict[celebrity_name].append(cropped_file_path)\n",
    "            count += 1    "
   ]
  },
  {
   "cell_type": "code",
   "execution_count": null,
   "metadata": {},
   "outputs": [],
   "source": []
  },
  {
   "cell_type": "code",
   "execution_count": null,
   "metadata": {},
   "outputs": [],
   "source": []
  },
  {
   "cell_type": "code",
   "execution_count": null,
   "metadata": {},
   "outputs": [],
   "source": []
  },
  {
   "cell_type": "code",
   "execution_count": null,
   "metadata": {},
   "outputs": [],
   "source": []
  },
  {
   "cell_type": "code",
   "execution_count": null,
   "metadata": {},
   "outputs": [],
   "source": []
  },
  {
   "cell_type": "code",
   "execution_count": null,
   "metadata": {},
   "outputs": [],
   "source": []
  },
  {
   "cell_type": "code",
   "execution_count": null,
   "metadata": {},
   "outputs": [],
   "source": []
  },
  {
   "cell_type": "code",
   "execution_count": null,
   "metadata": {},
   "outputs": [],
   "source": []
  },
  {
   "cell_type": "code",
   "execution_count": null,
   "metadata": {},
   "outputs": [],
   "source": []
  },
  {
   "cell_type": "code",
   "execution_count": null,
   "metadata": {},
   "outputs": [],
   "source": []
  },
  {
   "cell_type": "code",
   "execution_count": null,
   "id": "b7f8a704",
   "metadata": {},
   "outputs": [],
   "source": []
  }
 ],
 "metadata": {
  "kernelspec": {
   "display_name": "tf-working",
   "language": "python",
   "name": "python3"
  },
  "language_info": {
   "codemirror_mode": {
    "name": "ipython",
    "version": 3
   },
   "file_extension": ".py",
   "mimetype": "text/x-python",
   "name": "python",
   "nbconvert_exporter": "python",
   "pygments_lexer": "ipython3",
   "version": "3.9.23"
  }
 },
 "nbformat": 4,
 "nbformat_minor": 5
}
